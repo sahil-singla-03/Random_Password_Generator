{
 "cells": [
  {
   "cell_type": "code",
   "execution_count": 1,
   "metadata": {},
   "outputs": [],
   "source": [
    "import random\n",
    "import string"
   ]
  },
  {
   "cell_type": "markdown",
   "metadata": {},
   "source": [
    "### Assign weights according to your requirement\n",
    "\n",
    "###### 0 -> Alphabets lower case\n",
    "###### 1 -> Alphabets upper case\n",
    "###### 2 -> Digits 0-9\n",
    "###### 3 -> Special Characters"
   ]
  },
  {
   "cell_type": "code",
   "execution_count": 2,
   "metadata": {},
   "outputs": [
    {
     "data": {
      "text/plain": [
       "[2, 3, 2, 0, 3, 2, 2, 1, 2, 2, 0, 2, 0, 0, 2]"
      ]
     },
     "execution_count": 2,
     "metadata": {},
     "output_type": "execute_result"
    }
   ],
   "source": [
    "switchCase = random.choices('0123', weights=[0.25, 0.25, 0.25, 0.25], k=15)\n",
    "switchCase = [int(i) for i in switchCase]\n",
    "switchCase"
   ]
  },
  {
   "cell_type": "code",
   "execution_count": 3,
   "metadata": {},
   "outputs": [],
   "source": [
    "password = ''\n",
    "\n",
    "for i in switchCase:\n",
    "    \n",
    "    if i==0:\n",
    "        password = password + ''.join(random.choice(string.ascii_lowercase))\n",
    "\n",
    "    elif i==1:\n",
    "        password = password + ''.join(random.choice(string.ascii_uppercase))\n",
    "\n",
    "    elif i==2:\n",
    "        password = password + password.join(random.choice(string.digits))\n",
    "\n",
    "    else:\n",
    "        password = password + password.join(random.choice('!@#$%^&*()')) ### Remove/Add Special Characters"
   ]
  },
  {
   "cell_type": "code",
   "execution_count": 4,
   "metadata": {},
   "outputs": [
    {
     "data": {
      "text/plain": [
       "'2)3b^40M29n2hn1'"
      ]
     },
     "execution_count": 4,
     "metadata": {},
     "output_type": "execute_result"
    }
   ],
   "source": [
    "password"
   ]
  }
 ],
 "metadata": {
  "kernelspec": {
   "display_name": "Python 3",
   "language": "python",
   "name": "python3"
  },
  "language_info": {
   "codemirror_mode": {
    "name": "ipython",
    "version": 3
   },
   "file_extension": ".py",
   "mimetype": "text/x-python",
   "name": "python",
   "nbconvert_exporter": "python",
   "pygments_lexer": "ipython3",
   "version": "3.7.5"
  }
 },
 "nbformat": 4,
 "nbformat_minor": 2
}
