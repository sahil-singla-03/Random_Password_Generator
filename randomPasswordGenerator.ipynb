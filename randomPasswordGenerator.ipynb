{
 "cells": [
  {
   "cell_type": "code",
   "execution_count": 1,
   "metadata": {},
   "outputs": [],
   "source": [
    "import random\n",
    "import string\n",
    "import pandas as pd"
   ]
  },
  {
   "cell_type": "markdown",
   "metadata": {},
   "source": [
    "### Assign weights according to your requirement\n",
    "\n",
    "###### 0 -> Alphabets lower case\n",
    "###### 1 -> Alphabets upper case\n",
    "###### 2 -> Digits 0-9\n",
    "###### 3 -> Special Characters"
   ]
  },
  {
   "cell_type": "code",
   "execution_count": 2,
   "metadata": {},
   "outputs": [
    {
     "data": {
      "text/plain": [
       "[3, 2, 0, 1, 2, 1, 3, 3, 3, 2, 1, 2, 2, 1, 2]"
      ]
     },
     "execution_count": 2,
     "metadata": {},
     "output_type": "execute_result"
    }
   ],
   "source": [
    "switchCase = random.choices('0123', weights=[0.25, 0.25, 0.25, 0.25], k=15)\n",
    "switchCase = [int(i) for i in switchCase]\n",
    "switchCase"
   ]
  },
  {
   "cell_type": "code",
   "execution_count": 3,
   "metadata": {},
   "outputs": [],
   "source": [
    "password = ''\n",
    "\n",
    "for i in switchCase:\n",
    "    \n",
    "    if i==0:\n",
    "        password = password + ''.join(random.choice(string.ascii_lowercase))\n",
    "\n",
    "    elif i==1:\n",
    "        password = password + ''.join(random.choice(string.ascii_uppercase))\n",
    "\n",
    "    elif i==2:\n",
    "        password = password + password.join(random.choice(string.digits))\n",
    "\n",
    "    else:\n",
    "        password = password + password.join(random.choice('!@#$%^&*()')) ### Remove/Add Special Characters"
   ]
  },
  {
   "cell_type": "code",
   "execution_count": 4,
   "metadata": {},
   "outputs": [
    {
     "data": {
      "text/plain": [
       "'@6qC5T&#&2L05W2'"
      ]
     },
     "execution_count": 4,
     "metadata": {},
     "output_type": "execute_result"
    }
   ],
   "source": [
    "password"
   ]
  },
  {
   "cell_type": "markdown",
   "metadata": {},
   "source": [
    "### Hash"
   ]
  },
  {
   "cell_type": "code",
   "execution_count": 5,
   "metadata": {
    "scrolled": true
   },
   "outputs": [],
   "source": [
    "x_val = []\n",
    "\n",
    "for x in string.ascii_letters:\n",
    "    x_val.append(x)\n",
    "    \n",
    "for x in string.digits:\n",
    "    x_val.append(x)\n",
    "    \n",
    "for x in '!@#$%^&*()':\n",
    "    x_val.append(x)"
   ]
  },
  {
   "cell_type": "code",
   "execution_count": 6,
   "metadata": {},
   "outputs": [],
   "source": [
    "df = pd.DataFrame(x_val, columns=['x_value'])"
   ]
  },
  {
   "cell_type": "code",
   "execution_count": 7,
   "metadata": {
    "scrolled": true
   },
   "outputs": [],
   "source": [
    "r = random.Random(31196)\n",
    "y_val = r.sample(df['x_value'].tolist(), k=len(df))"
   ]
  },
  {
   "cell_type": "code",
   "execution_count": 8,
   "metadata": {},
   "outputs": [],
   "source": [
    "df['y_value'] = y_val "
   ]
  },
  {
   "cell_type": "code",
   "execution_count": 9,
   "metadata": {},
   "outputs": [],
   "source": [
    "hash_pass = ''\n",
    "for i in password:\n",
    "    hash_pass = hash_pass + ''.join(df[df['x_value']==i]['y_value'].values[0])"
   ]
  },
  {
   "cell_type": "code",
   "execution_count": 10,
   "metadata": {},
   "outputs": [
    {
     "data": {
      "text/plain": [
       "'M(VWiXcxc*T!iK*'"
      ]
     },
     "execution_count": 10,
     "metadata": {},
     "output_type": "execute_result"
    }
   ],
   "source": [
    "hash_pass"
   ]
  },
  {
   "cell_type": "markdown",
   "metadata": {},
   "source": [
    "### De-Hash"
   ]
  },
  {
   "cell_type": "code",
   "execution_count": 11,
   "metadata": {},
   "outputs": [],
   "source": [
    "password = ''\n",
    "for i in hash_pass:\n",
    "    password = password + ''.join(df[df['y_value']==i]['x_value'].values[0])"
   ]
  },
  {
   "cell_type": "code",
   "execution_count": 12,
   "metadata": {},
   "outputs": [
    {
     "data": {
      "text/plain": [
       "'@6qC5T&#&2L05W2'"
      ]
     },
     "execution_count": 12,
     "metadata": {},
     "output_type": "execute_result"
    }
   ],
   "source": [
    "password"
   ]
  }
 ],
 "metadata": {
  "kernelspec": {
   "display_name": "Python 3",
   "language": "python",
   "name": "python3"
  },
  "language_info": {
   "codemirror_mode": {
    "name": "ipython",
    "version": 3
   },
   "file_extension": ".py",
   "mimetype": "text/x-python",
   "name": "python",
   "nbconvert_exporter": "python",
   "pygments_lexer": "ipython3",
   "version": "3.7.5"
  }
 },
 "nbformat": 4,
 "nbformat_minor": 2
}
